{
  "nbformat": 4,
  "nbformat_minor": 0,
  "metadata": {
    "colab": {
      "name": "dynamicregressiondeneme.ipynb",
      "provenance": [],
      "include_colab_link": true
    },
    "kernelspec": {
      "name": "python3",
      "display_name": "Python 3"
    }
  },
  "cells": [
    {
      "cell_type": "markdown",
      "metadata": {
        "id": "view-in-github",
        "colab_type": "text"
      },
      "source": [
        "<a href=\"https://colab.research.google.com/github/mehmetalivarol/time-series-analysis-with-lstm/blob/master/dynamicregressiondeneme.ipynb\" target=\"_parent\"><img src=\"https://colab.research.google.com/assets/colab-badge.svg\" alt=\"Open In Colab\"/></a>"
      ]
    },
    {
      "cell_type": "code",
      "metadata": {
        "id": "U5yinM5wnUbZ",
        "colab_type": "code",
        "outputId": "7ee26585-8197-4979-d13d-e494fe11fbfa",
        "colab": {
          "base_uri": "https://localhost:8080/",
          "height": 128
        }
      },
      "source": [
        "from google.colab import drive\n",
        "drive.mount('/content/drive')"
      ],
      "execution_count": 0,
      "outputs": [
        {
          "output_type": "stream",
          "text": [
            "Go to this URL in a browser: https://accounts.google.com/o/oauth2/auth?client_id=947318989803-6bn6qk8qdgf4n4g3pfee6491hc0brc4i.apps.googleusercontent.com&redirect_uri=urn%3Aietf%3Awg%3Aoauth%3A2.0%3Aoob&scope=email%20https%3A%2F%2Fwww.googleapis.com%2Fauth%2Fdocs.test%20https%3A%2F%2Fwww.googleapis.com%2Fauth%2Fdrive%20https%3A%2F%2Fwww.googleapis.com%2Fauth%2Fdrive.photos.readonly%20https%3A%2F%2Fwww.googleapis.com%2Fauth%2Fpeopleapi.readonly&response_type=code\n",
            "\n",
            "Enter your authorization code:\n",
            "··········\n",
            "Mounted at /content/drive\n"
          ],
          "name": "stdout"
        }
      ]
    },
    {
      "cell_type": "code",
      "metadata": {
        "id": "fZKqFTbqnIrL",
        "colab_type": "code",
        "outputId": "e00a16b1-ccd5-4290-eaf6-02a775b92645",
        "colab": {
          "base_uri": "https://localhost:8080/",
          "height": 181
        }
      },
      "source": [
        "#import required packages\n",
        "import pandas as pd\n",
        "import matplotlib.pyplot as plt\n",
        "%matplotlib inline\n",
        "import numpy as np\n",
        "from sklearn.metrics import mean_squared_error\n",
        "import sklearn\n",
        "\n",
        "#read the data\n",
        "df=pd.read_excel('/content/drive/My Drive/Colab Data/DO.linkterasend.xlsx')\n",
        "\n",
        "print('Number of rows and columns:', df.shape)\n",
        "df.head(5)\n",
        "\n",
        "#check the dtypes\n",
        "df.dtypes"
      ],
      "execution_count": 0,
      "outputs": [
        {
          "output_type": "stream",
          "text": [
            "Number of rows and columns: (761, 7)\n"
          ],
          "name": "stdout"
        },
        {
          "output_type": "execute_result",
          "data": {
            "text/plain": [
              "Date               datetime64[ns]\n",
              "Units                       int64\n",
              "IsGunuKatsayi             float64\n",
              "DayOfWeek                   int64\n",
              "WorkDayOfWeek               int64\n",
              "WorkDayOfMonth2             int64\n",
              "GeriOdemeDurum             object\n",
              "dtype: object"
            ]
          },
          "metadata": {
            "tags": []
          },
          "execution_count": 50
        }
      ]
    },
    {
      "cell_type": "code",
      "metadata": {
        "id": "Nk3AYgIhnTOa",
        "colab_type": "code",
        "colab": {}
      },
      "source": [
        "df=df.loc[:,['Date','Units','IsGunuKatsayi','DayOfWeek']]\n",
        "df.set_index('Date',inplace=True)"
      ],
      "execution_count": 0,
      "outputs": []
    },
    {
      "cell_type": "code",
      "metadata": {
        "id": "vz7FGWZ_ogPF",
        "colab_type": "code",
        "colab": {}
      },
      "source": [
        "#missing value treatment\n",
        "cols = df.columns\n",
        "for j in cols:\n",
        "    for i in range(0,len(data)):\n",
        "       if df[j][i] == -761:\n",
        "           df[j][i] = df[j][i-1]\n",
        "\n"
      ],
      "execution_count": 0,
      "outputs": []
    },
    {
      "cell_type": "code",
      "metadata": {
        "id": "ylPEs9aVo-73",
        "colab_type": "code",
        "outputId": "e945e405-37e7-4cc8-cca4-a9244ad6033a",
        "colab": {
          "base_uri": "https://localhost:8080/",
          "height": 110
        }
      },
      "source": [
        "#creating the train and validation set\n",
        "train = df[:int(0.8*(len(df)))]\n",
        "valid = df[int(0.8*(len(df))):]\n",
        "\n",
        "#fit the model\n",
        "from statsmodels.tsa.vector_ar.var_model import VAR\n",
        "\n",
        "model = VAR(endog=train)\n",
        "model_fit = model.fit()\n",
        "\n",
        "# make prediction on validation\n",
        "prediction = model_fit.forecast(model_fit.y, steps=len(valid))"
      ],
      "execution_count": 0,
      "outputs": [
        {
          "output_type": "stream",
          "text": [
            "/usr/local/lib/python3.6/dist-packages/statsmodels/tsa/base/tsa_model.py:165: ValueWarning: No frequency information was provided, so inferred frequency D will be used.\n",
            "  % freq, ValueWarning)\n",
            "/usr/local/lib/python3.6/dist-packages/statsmodels/base/wrapper.py:35: FutureWarning: y is a deprecated alias for endog, will be removed in version 0.11.0\n",
            "  obj = getattr(results, attr)\n"
          ],
          "name": "stderr"
        }
      ]
    },
    {
      "cell_type": "code",
      "metadata": {
        "id": "QAPQ-qD-pvlO",
        "colab_type": "code",
        "outputId": "eaeee924-e0dc-4d2c-925e-bf00dfc31ea8",
        "colab": {
          "base_uri": "https://localhost:8080/",
          "height": 72
        }
      },
      "source": [
        "#converting predictions to dataframe\n",
        "pred = pd.DataFrame(index=range(0,len(prediction)),columns=[cols])\n",
        "for j in range(0,3):\n",
        "    for i in range(0, len(prediction)):\n",
        "       pred.iloc[i][j] = prediction[i][j]\n",
        "\n",
        "#check rmse\n",
        "for i in cols:\n",
        "    print('rmse value for', i, 'is : ', np.sqrt(mean_squared_error(pred[i], valid[i])))"
      ],
      "execution_count": 0,
      "outputs": [
        {
          "output_type": "stream",
          "text": [
            "rmse value for Units is :  1022.6631641025077\n",
            "rmse value for IsGunuKatsayi is :  0.4104016846630699\n",
            "rmse value for DayOfWeek is :  1.9988530904444908\n"
          ],
          "name": "stdout"
        }
      ]
    },
    {
      "cell_type": "code",
      "metadata": {
        "id": "cykMEQpyqwrm",
        "colab_type": "code",
        "outputId": "d8911658-3e9a-46ca-c3d3-e695d83fa943",
        "colab": {
          "base_uri": "https://localhost:8080/",
          "height": 674
        }
      },
      "source": [
        "#make final predictions\n",
        "model = VAR(endog=df)\n",
        "model_fit = model.fit()\n",
        "yhat = model_fit.forecast(model_fit.y, steps=31)\n",
        "print(yhat)\n",
        "\n"
      ],
      "execution_count": 0,
      "outputs": [
        {
          "output_type": "stream",
          "text": [
            "[[1.59620080e+03 8.07494129e-01 4.17428218e+00]\n",
            " [1.52264363e+03 7.03691508e-01 4.37922902e+00]\n",
            " [1.57528402e+03 6.89600975e-01 4.19630123e+00]\n",
            " [1.65159416e+03 7.08954960e-01 4.02282832e+00]\n",
            " [1.69326145e+03 7.25427292e-01 3.96027008e+00]\n",
            " [1.70143487e+03 7.30878482e-01 3.96692469e+00]\n",
            " [1.69595727e+03 7.29943822e-01 3.98827999e+00]\n",
            " [1.69033931e+03 7.27856785e-01 4.00033784e+00]\n",
            " [1.68822919e+03 7.26756961e-01 4.00235864e+00]\n",
            " [1.68840095e+03 7.26610841e-01 4.00039186e+00]\n",
            " [1.68909021e+03 7.26815133e-01 3.99856600e+00]\n",
            " [1.68949200e+03 7.26987475e-01 3.99791584e+00]\n",
            " [1.68956569e+03 7.27043782e-01 3.99799039e+00]\n",
            " [1.68950435e+03 7.27033462e-01 3.99821558e+00]\n",
            " [1.68944452e+03 7.27011452e-01 3.99834147e+00]\n",
            " [1.68942239e+03 7.26999974e-01 3.99836194e+00]\n",
            " [1.68942429e+03 7.26998509e-01 3.99834099e+00]\n",
            " [1.68943154e+03 7.27000680e-01 3.99832183e+00]\n",
            " [1.68943574e+03 7.27002487e-01 3.99831509e+00]\n",
            " [1.68943648e+03 7.27003070e-01 3.99831592e+00]\n",
            " [1.68943583e+03 7.27002957e-01 3.99831830e+00]\n",
            " [1.68943520e+03 7.27002725e-01 3.99831961e+00]\n",
            " [1.68943497e+03 7.27002605e-01 3.99831982e+00]\n",
            " [1.68943499e+03 7.27002590e-01 3.99831960e+00]\n",
            " [1.68943507e+03 7.27002613e-01 3.99831939e+00]\n",
            " [1.68943511e+03 7.27002632e-01 3.99831932e+00]\n",
            " [1.68943512e+03 7.27002638e-01 3.99831933e+00]\n",
            " [1.68943511e+03 7.27002637e-01 3.99831936e+00]\n",
            " [1.68943511e+03 7.27002635e-01 3.99831937e+00]\n",
            " [1.68943511e+03 7.27002633e-01 3.99831938e+00]\n",
            " [1.68943511e+03 7.27002633e-01 3.99831937e+00]]\n"
          ],
          "name": "stdout"
        },
        {
          "output_type": "stream",
          "text": [
            "/usr/local/lib/python3.6/dist-packages/statsmodels/tsa/base/tsa_model.py:165: ValueWarning: No frequency information was provided, so inferred frequency D will be used.\n",
            "  % freq, ValueWarning)\n",
            "/usr/local/lib/python3.6/dist-packages/statsmodels/base/wrapper.py:35: FutureWarning: y is a deprecated alias for endog, will be removed in version 0.11.0\n",
            "  obj = getattr(results, attr)\n"
          ],
          "name": "stderr"
        }
      ]
    }
  ]
}